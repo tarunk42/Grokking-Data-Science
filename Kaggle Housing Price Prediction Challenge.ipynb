{
 "cells": [
  {
   "cell_type": "markdown",
   "id": "554d91c3",
   "metadata": {},
   "source": [
    "# Kaggle: House Price Prediction Challenge"
   ]
  },
  {
   "cell_type": "code",
   "execution_count": null,
   "id": "9a38a15e",
   "metadata": {},
   "outputs": [],
   "source": [
    "# Import Core modules\n",
    "import pandas as pd\n",
    "import numpy as np\n",
    "\n",
    "# Import modules for vizualization\n",
    "import matplotlib.pyplot as plt\n",
    "import seaborn as sns\n",
    "%matplotlib inline\n",
    "pd.set_option(\"display.max_rows\", None, \"display.max_columns\", None)\n",
    "import warnings\n",
    "warnings.filterwarnings('ignore')"
   ]
  },
  {
   "cell_type": "code",
   "execution_count": null,
   "id": "2bb937e3",
   "metadata": {},
   "outputs": [],
   "source": [
    "# Load Data into pandas dataframe\n",
    "housing_train = pd.read_csv('./data/train.csv')"
   ]
  },
  {
   "cell_type": "code",
   "execution_count": null,
   "id": "603befb1",
   "metadata": {},
   "outputs": [],
   "source": [
    "# Load test Data into pandas dataframe\n",
    "housing_test = pd.read_csv('./data/test.csv')"
   ]
  },
  {
   "cell_type": "code",
   "execution_count": null,
   "id": "e30792ea",
   "metadata": {},
   "outputs": [],
   "source": [
    "housing_train.shape"
   ]
  },
  {
   "cell_type": "code",
   "execution_count": null,
   "id": "52c1db37",
   "metadata": {},
   "outputs": [],
   "source": [
    "housing_test.shape"
   ]
  },
  {
   "cell_type": "code",
   "execution_count": null,
   "id": "1c63664e",
   "metadata": {},
   "outputs": [],
   "source": [
    "# Drop the id column from both train and test data\n",
    "housing_train = housing_train.drop(\"Id\", axis=1)\n",
    "housing_test = housing_test.drop(\"Id\", axis=1)"
   ]
  },
  {
   "cell_type": "code",
   "execution_count": null,
   "id": "f72272e9",
   "metadata": {},
   "outputs": [],
   "source": [
    "len(housing_train.select_dtypes(include=['object']).columns)"
   ]
  },
  {
   "cell_type": "code",
   "execution_count": null,
   "id": "d2c44c7a",
   "metadata": {},
   "outputs": [],
   "source": [
    "housing_train['SalePrice'].describe()"
   ]
  },
  {
   "cell_type": "code",
   "execution_count": null,
   "id": "cd74ce6a",
   "metadata": {},
   "outputs": [],
   "source": [
    "# Correlations \n",
    "corr = housing_train.corr()\n",
    "\n",
    "f, ax = plt.subplots(figsize=(15,15))\n",
    "mask = np.zeros_like(corr, dtype=np.bool)\n",
    "mask[np.triu_indices_from(mask)] = True\n",
    "\n",
    "sns.heatmap(corr, mask=mask, cmap=sns.diverging_palette(220,10,as_cmap=True), square=True, ax=ax, vmin=-1.0, vmax=1.0,\n",
    "           linewidths=0.5)"
   ]
  },
  {
   "cell_type": "code",
   "execution_count": null,
   "id": "7528da3e",
   "metadata": {},
   "outputs": [],
   "source": [
    "# Sorted list of corrs among all attribs and target var SalePrice\n",
    "corr['SalePrice'].sort_values(ascending=False)"
   ]
  },
  {
   "cell_type": "markdown",
   "id": "55e7e140",
   "metadata": {},
   "source": [
    "## Data Preprocessing"
   ]
  },
  {
   "cell_type": "code",
   "execution_count": null,
   "id": "1f397f8d",
   "metadata": {},
   "outputs": [],
   "source": [
    "housing_train.isnull().sum().sort_values(ascending=False)"
   ]
  },
  {
   "cell_type": "code",
   "execution_count": null,
   "id": "e79b9011",
   "metadata": {},
   "outputs": [],
   "source": [
    "housing_test.isnull().sum().sort_values(ascending=False)"
   ]
  },
  {
   "cell_type": "code",
   "execution_count": null,
   "id": "e7f76fd3",
   "metadata": {},
   "outputs": [],
   "source": [
    "housing_train_processed = housing_train\n",
    "housing_test_processed = housing_test"
   ]
  },
  {
   "cell_type": "code",
   "execution_count": null,
   "id": "c6fe30bf",
   "metadata": {},
   "outputs": [],
   "source": [
    "# Categorical Columns:\n",
    "cat_cols_fill_node = ['PoolQC', 'MiscFeature', 'Alley', 'Fence', 'FireplaceQu', \n",
    "                      'GarageCond', 'GarageQual', 'GarageFinish', 'GarageType',\n",
    "                      'BsmtFinType2', 'BsmtExposure', 'BsmtFinType1', 'BsmtQual', 'BsmtCond',\n",
    "                      'MasVnrType', 'MSZoning', 'Functional', 'Exterior1st', 'Exterior2nd', 'KitchenQual', 'SaleType']\n",
    "\n",
    "# Replace missing values for categorical columns with None\n",
    "for cat in cat_cols_fill_node:\n",
    "    housing_train_processed[cat] = housing_train_processed[cat].fillna('None')\n",
    "    housing_test_processed[cat] = housing_test_processed[cat].fillna('None')\n",
    "\n",
    "\n",
    "    \n",
    "# Group by neighbourhood and fill in missing value by the median Lotfrontage of all the neighborhood\n",
    "housing_train_processed['LotFrontage'] = housing_train_processed.groupby(\"Neighborhood\")[\"LotFrontage\"].transform(\n",
    "    lambda x: x.fillna(x.median()))\n",
    "housing_test_processed['LotFrontage'] = housing_test_processed.groupby(\"Neighborhood\")[\"LotFrontage\"].transform(\n",
    "    lambda x: x.fillna(x.median()))\n",
    "\n",
    "# Garage: GarageYrBlt, GarageArea are GarageCars, these are numerical columns, replace with zero\n",
    "for col in ['GarageYrBlt', 'GarageArea', 'GarageCars', 'BsmtFullBath', 'BsmtHalfBath', 'BsmtUnfSF', 'BsmtFinSF2', 'BsmtFinSF1']:\n",
    "    housing_train_processed[col] = housing_train_processed[col].fillna(int(0))\n",
    "    housing_test_processed[col] = housing_test_processed[col].fillna(int(0))\n",
    "    \n",
    "# MasVnrArea : Replace with 0\n",
    "housing_train_processed['MasVnrArea'] = housing_train_processed['MasVnrArea'].fillna(int(0))\n",
    "housing_test_processed['MasVnrArea'] = housing_test_processed['MasVnrArea'].fillna(int(0))\n",
    "\n",
    "# Use the mode value for Electrical and TotalBsmtSF\n",
    "housing_train_processed['Electrical'] = housing_train_processed['Electrical'].fillna(housing_train_processed['Electrical']).mode()[0]\n",
    "housing_test_processed['Electrical'] = housing_test_processed['Electrical'].fillna(housing_test_processed['Electrical']).mode()[0]\n",
    "housing_test_processed['TotalBsmtSF'] = housing_test_processed['TotalBsmtSF'].fillna(housing_test_processed['TotalBsmtSF']).mode()[0]\n",
    "\n",
    "# There is no need of Utilities so let's just drop this column\n",
    "housing_train_processed = housing_train_processed.drop(['Utilities'], axis=1)\n",
    "housing_test_processed = housing_test_processed.drop(['Utilities'], axis=1)"
   ]
  },
  {
   "cell_type": "code",
   "execution_count": null,
   "id": "3fba426b",
   "metadata": {},
   "outputs": [],
   "source": [
    "# Get the count again to verify that we do not have any more missing value\n",
    "housing_train_processed.isnull().apply(sum).max()"
   ]
  },
  {
   "cell_type": "code",
   "execution_count": null,
   "id": "197f9a44",
   "metadata": {},
   "outputs": [],
   "source": [
    "housing_test_processed.isnull().apply(sum).max()"
   ]
  },
  {
   "cell_type": "markdown",
   "id": "b6b11267",
   "metadata": {},
   "source": [
    "## Dealing with Outliers"
   ]
  },
  {
   "cell_type": "code",
   "execution_count": null,
   "id": "c8598aa8",
   "metadata": {},
   "outputs": [],
   "source": [
    "num_attribues_train = housing_train_processed.select_dtypes(exclude='object')\n",
    "num_attribues_test = housing_test_processed.select_dtypes(exclude='object')\n",
    "\n",
    "high_quant_train = housing_train_processed.quantile(0.999)\n",
    "high_quant_test = housing_test_processed.quantile(0.999)\n",
    "\n",
    "for i in num_attribues_train.columns:\n",
    "    housing_train_processed = housing_train_processed.drop(housing_train_processed[i][housing_train_processed[i]>high_quant_train[i]].index)\n",
    "for i in num_attribues_test.columns:\n",
    "    housing_test_processed = housing_test_processed.drop(housing_test_processed[i][housing_test_processed[i]>high_quant_test[i]].index)"
   ]
  },
  {
   "cell_type": "code",
   "execution_count": null,
   "id": "cb45656f",
   "metadata": {},
   "outputs": [],
   "source": [
    "housing_train_processed.info()"
   ]
  },
  {
   "cell_type": "code",
   "execution_count": null,
   "id": "1331805d",
   "metadata": {},
   "outputs": [],
   "source": [
    "housing_test_processed.info()"
   ]
  },
  {
   "cell_type": "markdown",
   "id": "730a5850",
   "metadata": {},
   "source": [
    "## Dealing with Correlated Attributes"
   ]
  },
  {
   "cell_type": "code",
   "execution_count": null,
   "id": "d8898916",
   "metadata": {},
   "outputs": [],
   "source": [
    "# Remove highly correlated attributes\n",
    "attributes_drop = ['MiscVal', 'MoSold', 'YrSold', 'BsmtFinSF2', 'BsmtHalfBath', 'MSSubClass',\n",
    "                   'GarageArea', 'GarageYrBlt', '3SsnPorch']\n",
    "\n",
    "housing_train_processed = housing_train_processed.drop(attributes_drop, axis=1)\n",
    "housing_test_processed = housing_test_processed.drop(attributes_drop, axis=1)"
   ]
  },
  {
   "cell_type": "markdown",
   "id": "4053dbf8",
   "metadata": {},
   "source": [
    "## Handle text and categorical attributes"
   ]
  },
  {
   "cell_type": "code",
   "execution_count": null,
   "id": "3c66ddd4",
   "metadata": {},
   "outputs": [],
   "source": [
    "# Transforming cat variables\n",
    "from sklearn.preprocessing import OneHotEncoder\n",
    "cat_encoder = OneHotEncoder()\n",
    "housing_train_processed_1hot = cat_encoder.fit_transform(housing_train_processed)\n",
    "housing_test_processed_1hot = cat_encoder.fit_transform(housing_test_processed)"
   ]
  },
  {
   "cell_type": "code",
   "execution_count": null,
   "id": "6e4806ae",
   "metadata": {},
   "outputs": [],
   "source": [
    "housing_test_processed_1hot"
   ]
  },
  {
   "cell_type": "code",
   "execution_count": null,
   "id": "b4c354b4",
   "metadata": {},
   "outputs": [],
   "source": [
    "housing_train_processed_1hot"
   ]
  },
  {
   "cell_type": "markdown",
   "id": "57537b26",
   "metadata": {},
   "source": [
    "# Data Transformation : Pipeline"
   ]
  },
  {
   "cell_type": "code",
   "execution_count": null,
   "id": "daabc992",
   "metadata": {},
   "outputs": [],
   "source": [
    "# Numerical Pipeline\n",
    "from sklearn.pipeline import Pipeline\n",
    "from sklearn.preprocessing import StandardScaler\n",
    "from sklearn.compose import ColumnTransformer\n",
    "from sklearn.impute import SimpleImputer\n",
    "\n",
    "# separate features and Target variable in the train set\n",
    "housing_train_X = housing_train_processed.drop('SalePrice', axis=1)\n",
    "housing_train_y = housing_train_processed['SalePrice'].copy()\n",
    "\n",
    "# Separate numerical and Categorical attributes in lists\n",
    "train_num_attributes = housing_train_X.select_dtypes(exclude='object')\n",
    "train_cat_attributes = housing_train_X.select_dtypes(include='object')\n",
    "test_num_attributes = housing_test_processed.select_dtypes(exclude='object')\n",
    "test_cat_attributes = housing_test_processed.select_dtypes(include='object')\n",
    "\n",
    "train_num_attribs = list(train_num_attributes)\n",
    "train_cat_attribs = list(train_cat_attributes)\n",
    "test_num_attribs = list(test_num_attributes)\n",
    "test_cat_attribs = list(test_cat_attributes)"
   ]
  },
  {
   "cell_type": "code",
   "execution_count": null,
   "id": "67918932",
   "metadata": {},
   "outputs": [],
   "source": [
    "# Numerical pipelines to impute any missing value with median amd scale attributes\n",
    "num_pipeline_train = Pipeline([\n",
    "    ('imputer', SimpleImputer(strategy=\"median\")),\n",
    "    ('std_scaler', StandardScaler()),\n",
    "])\n",
    "num_pipeline_test = Pipeline([\n",
    "    ('imputer', SimpleImputer(strategy=\"median\")),\n",
    "    ('std_scaler', StandardScaler()),\n",
    "])"
   ]
  },
  {
   "cell_type": "code",
   "execution_count": null,
   "id": "8a36471e",
   "metadata": {},
   "outputs": [],
   "source": [
    "# using num pipeline\n",
    "full_pipeline_train = ColumnTransformer([\n",
    "    (\"num\", num_pipeline_train, train_num_attribs),\n",
    "    (\"cat\", OneHotEncoder(), train_cat_attribs),\n",
    "])\n",
    "\n",
    "full_pipeline_test = ColumnTransformer([\n",
    "    (\"num\", num_pipeline_test, test_num_attribs),\n",
    "    (\"cat\", OneHotEncoder(), test_cat_attribs),\n",
    "])"
   ]
  },
  {
   "cell_type": "code",
   "execution_count": null,
   "id": "bee86b64",
   "metadata": {},
   "outputs": [],
   "source": [
    "housing_train_y.describe()"
   ]
  },
  {
   "cell_type": "code",
   "execution_count": null,
   "id": "4ac18276",
   "metadata": {},
   "outputs": [],
   "source": [
    "# Apply log transform to SalePrice\n",
    "housing_train_y_prepared = np.log(housing_train_y)"
   ]
  },
  {
   "cell_type": "code",
   "execution_count": null,
   "id": "552026bf",
   "metadata": {},
   "outputs": [],
   "source": [
    "housing_train_y_prepared.describe()"
   ]
  },
  {
   "cell_type": "code",
   "execution_count": null,
   "id": "517863b8",
   "metadata": {},
   "outputs": [],
   "source": [
    "# Run the transformation pipeline on all other attributes in train and test sets\n",
    "housing_train_X_prepared = full_pipeline_train.fit_transform(housing_train_X)\n",
    "housing_test_prepared = full_pipeline_test.fit_transform(housing_test_processed)"
   ]
  },
  {
   "cell_type": "code",
   "execution_count": null,
   "id": "20dc735a",
   "metadata": {},
   "outputs": [],
   "source": [
    "housing_train_X_prepared"
   ]
  },
  {
   "cell_type": "code",
   "execution_count": null,
   "id": "b90d86bb",
   "metadata": {},
   "outputs": [],
   "source": [
    "housing_test_prepared"
   ]
  },
  {
   "cell_type": "markdown",
   "id": "22b0b05c",
   "metadata": {},
   "source": [
    "## Create ML Model"
   ]
  },
  {
   "cell_type": "code",
   "execution_count": null,
   "id": "c1010435",
   "metadata": {},
   "outputs": [],
   "source": [
    "from sklearn.model_selection import train_test_split\n",
    "\n",
    "X_train, X_test, y_train, y_test = train_test_split(housing_train_X_prepared, housing_train_y_prepared, test_size=0.2, random_state=7)"
   ]
  },
  {
   "cell_type": "code",
   "execution_count": null,
   "id": "16ac51ea",
   "metadata": {},
   "outputs": [],
   "source": [
    "# Inverse of log to change the SalePrice back to original : Invert the log-transformed value\n",
    "def inv_y(transformed_y):\n",
    "    return np.exp(transformed_y)"
   ]
  },
  {
   "cell_type": "code",
   "execution_count": null,
   "id": "b2d806ae",
   "metadata": {},
   "outputs": [],
   "source": [
    "# Testing on LinearRegression\n",
    "# import modules\n",
    "from sklearn.linear_model import LinearRegression\n",
    "\n",
    "# Train the model on training data\n",
    "model = LinearRegression()\n",
    "model.fit(X_train, y_train)\n",
    "\n",
    "# Evaluate the model on test data\n",
    "print(\"Accuracy%:\", model.score(X_test, y_test)*100)"
   ]
  },
  {
   "cell_type": "code",
   "execution_count": null,
   "id": "684571ad",
   "metadata": {},
   "outputs": [],
   "source": [
    "from sklearn.metrics import mean_squared_error\n",
    "from sklearn.ensemble import RandomForestRegressor\n",
    "\n",
    "# Model: Random Forest. Define the model. ==============================================\n",
    "rf_model = RandomForestRegressor(random_state=5)\n",
    "rf_model.fit(X_train, y_train)\n",
    "\n",
    "rf_val_predictions = rf_model.predict(X_test)\n",
    "rf_val_rmse = mean_squared_error(inv_y(rf_val_predictions), inv_y(y_test))\n",
    "rf_val_rmse = np.sqrt(rf_val_rmse)\n",
    "rf_score = rf_model.score(X_test, y_test)*100"
   ]
  },
  {
   "cell_type": "code",
   "execution_count": null,
   "id": "552d4134",
   "metadata": {},
   "outputs": [],
   "source": [
    "print(rf_val_rmse)"
   ]
  },
  {
   "cell_type": "code",
   "execution_count": null,
   "id": "8f136786",
   "metadata": {},
   "outputs": [],
   "source": [
    "print(rf_score)"
   ]
  },
  {
   "cell_type": "markdown",
   "id": "2fcb8d0c",
   "metadata": {},
   "source": [
    "## Evaluation using Cross-Validation"
   ]
  },
  {
   "cell_type": "code",
   "execution_count": null,
   "id": "fa1a534a",
   "metadata": {},
   "outputs": [],
   "source": [
    "from sklearn.model_selection import cross_val_score\n",
    "\n",
    "# Perform K fold cross-validation, where K=10\n",
    "scores = cross_val_score(rf_model, X_train, y_train,\n",
    "                        scoring=\"neg_mean_squared_error\", cv=10)\n",
    "rf_rmse_scores = np.sqrt(-scores)\n",
    "\n",
    "def display_scores(scores):\n",
    "    print(\"Scores: \", scores)\n",
    "    print(\"Mean: \", scores.mean())\n",
    "    print(\"Standard Deviation: \", scores.std())\n",
    "    \n",
    "display_scores(rf_rmse_scores)"
   ]
  },
  {
   "cell_type": "code",
   "execution_count": null,
   "id": "7bbd7ec6",
   "metadata": {},
   "outputs": [],
   "source": [
    "import joblib\n",
    "\n",
    "# Save the model\n",
    "joblib.dump(rf_model, \"Kaggle_RF_model.pkl\")"
   ]
  },
  {
   "cell_type": "markdown",
   "id": "a3490b9b",
   "metadata": {},
   "source": [
    "## Fine Tuning the model"
   ]
  },
  {
   "cell_type": "code",
   "execution_count": null,
   "id": "bf55e41c",
   "metadata": {},
   "outputs": [],
   "source": [
    "from sklearn.model_selection import GridSearchCV\n",
    "\n",
    "# Define the parameters for exploraion\n",
    "param_grid = [\n",
    "    {'n_estimators': [10, 50, 100, 150], 'max_features': [10, 20, 30, 40, 50, 100, 150]},\n",
    "    {'bootstrap': [False], 'n_estimators': [10, 50, 100, 150], 'max_features': [10, 20, 30, 40, 50, 100, 150]},\n",
    "]\n",
    "\n",
    "# The model for whcich we are finding params values\n",
    "forest_reg = RandomForestRegressor()\n",
    "\n",
    "grid_search = GridSearchCV(forest_reg, param_grid, cv=5,\n",
    "                           scoring='neg_mean_squared_error',\n",
    "                          return_train_score=True)\n",
    "\n",
    "grid_search.fit(X_train, y_train)"
   ]
  },
  {
   "cell_type": "code",
   "execution_count": null,
   "id": "6666c98f",
   "metadata": {},
   "outputs": [],
   "source": [
    "grid_search.best_params_"
   ]
  },
  {
   "cell_type": "code",
   "execution_count": null,
   "id": "bfc3e7ef",
   "metadata": {},
   "outputs": [],
   "source": [
    "grid_search.best_estimator_"
   ]
  },
  {
   "cell_type": "markdown",
   "id": "e79da7bd",
   "metadata": {},
   "source": [
    "## Evaluate using the best params"
   ]
  },
  {
   "cell_type": "code",
   "execution_count": null,
   "id": "deb234b4",
   "metadata": {},
   "outputs": [],
   "source": [
    "rf_model_final = RandomForestRegressor(bootstrap=False, max_features=50, n_estimators=100, random_state=5)\n",
    "\n",
    "rf_model_final.fit(X_train, y_train)\n",
    "rf_final_val_predictions = rf_model_final.predict(X_test)\n",
    "\n",
    "# Get RMSE\n",
    "rf_final_val_rmse = mean_squared_error(inv_y(rf_final_val_predictions), inv_y(y_test))\n",
    "rf_final_val_rmse = np.sqrt(rf_final_val_rmse)\n",
    "rf_final_val_rmse"
   ]
  },
  {
   "cell_type": "code",
   "execution_count": null,
   "id": "dfc22278",
   "metadata": {},
   "outputs": [],
   "source": [
    "rf_score = rf_model_final.score(X_test, y_test)*100"
   ]
  },
  {
   "cell_type": "code",
   "execution_count": null,
   "id": "08dacf65",
   "metadata": {},
   "outputs": [],
   "source": [
    "rf_score"
   ]
  },
  {
   "cell_type": "code",
   "execution_count": null,
   "id": "db730c85",
   "metadata": {},
   "outputs": [],
   "source": [
    "# saving the new model\n",
    "joblib.dump(rf_model_final, \"Final_RF_model.pkl\")"
   ]
  },
  {
   "cell_type": "code",
   "execution_count": null,
   "id": "3d6671bb",
   "metadata": {},
   "outputs": [],
   "source": [
    "housing_train_X.shape"
   ]
  },
  {
   "cell_type": "code",
   "execution_count": null,
   "id": "49c0295b",
   "metadata": {},
   "outputs": [],
   "source": [
    "housing_test_processed.shape"
   ]
  },
  {
   "cell_type": "code",
   "execution_count": null,
   "id": "caf0da20",
   "metadata": {},
   "outputs": [],
   "source": [
    "housing_train_X_prepared.shape"
   ]
  },
  {
   "cell_type": "code",
   "execution_count": null,
   "id": "c3016626",
   "metadata": {},
   "outputs": [],
   "source": [
    "housing_test_prepared.shape"
   ]
  },
  {
   "cell_type": "markdown",
   "id": "91a9d8a1",
   "metadata": {},
   "source": [
    "# Creating a new model for kaggle submission"
   ]
  },
  {
   "cell_type": "code",
   "execution_count": 1,
   "id": "645fea9d",
   "metadata": {},
   "outputs": [],
   "source": [
    "# Import Core modules\n",
    "import pandas as pd\n",
    "import numpy as np\n",
    "\n",
    "# Import modules for vizualization\n",
    "import matplotlib.pyplot as plt\n",
    "import seaborn as sns\n",
    "%matplotlib inline\n",
    "pd.set_option(\"display.max_rows\", None, \"display.max_columns\", None)\n",
    "import warnings\n",
    "warnings.filterwarnings('ignore')"
   ]
  },
  {
   "cell_type": "code",
   "execution_count": 2,
   "id": "721fe19a",
   "metadata": {},
   "outputs": [],
   "source": [
    "train = pd.read_csv('./data/train.csv')\n",
    "real_data = pd.read_csv('./data/test.csv')"
   ]
  },
  {
   "cell_type": "code",
   "execution_count": 3,
   "id": "244a903a",
   "metadata": {},
   "outputs": [],
   "source": [
    "# train = train.drop(\"Id\", axis=1)\n",
    "# real_data = real_data.drop(\"Id\", axis=1)"
   ]
  },
  {
   "cell_type": "code",
   "execution_count": 4,
   "id": "943aa622",
   "metadata": {},
   "outputs": [],
   "source": [
    "train = train.drop(train[(train['TotalBsmtSF']>5000) & (train['SalePrice']<30000)].index)\n",
    "train = train.drop(train[(train['GrLivArea']>4000) & (train['SalePrice']<300000)].index)"
   ]
  },
  {
   "cell_type": "code",
   "execution_count": 5,
   "id": "8c0c8b7f",
   "metadata": {},
   "outputs": [
    {
     "data": {
      "image/png": "[encoded data removed]",
      "text/plain": [
       "<Figure size 432x288 with 1 Axes>"
      ]
     },
     "metadata": {
      "needs_background": "light"
     },
     "output_type": "display_data"
    }
   ],
   "source": [
    "sns.scatterplot(x='GrLivArea', y='SalePrice', data=train)\n",
    "plt.show()"
   ]
  },
  {
   "cell_type": "code",
   "execution_count": 6,
   "id": "d7d1fc5e",
   "metadata": {},
   "outputs": [
    {
     "data": {
      "image/png": "[encoded data removed]",
      "text/plain": [
       "<Figure size 432x288 with 2 Axes>"
      ]
     },
     "metadata": {},
     "output_type": "display_data"
    }
   ],
   "source": [
    "correlation = train.corr()\n",
    "k = 10 # no of vars in heatmap\n",
    "cols = correlation.nlargest(k, 'SalePrice')['SalePrice'].index\n",
    "cm = np.corrcoef(train[cols].values.T)\n",
    "sns.set(font_scale=1.2)\n",
    "hm = sns.heatmap(cm, cbar=True, annot=True, square=True, fmt='.2f', annot_kws={'size':10}, yticklabels=cols.values, xticklabels=cols.values)\n",
    "plt.show()"
   ]
  },
  {
   "cell_type": "code",
   "execution_count": 7,
   "id": "d5dafa55",
   "metadata": {},
   "outputs": [],
   "source": [
    "cols = ['SalePrice', 'OverallQual', 'GrLivArea', 'GarageCars', 'TotalBsmtSF', 'FullBath', 'YearBuilt']\n",
    "# sns.pairplot(train[cols], size=2.5)"
   ]
  },
  {
   "cell_type": "code",
   "execution_count": 8,
   "id": "965ecfa1",
   "metadata": {},
   "outputs": [
    {
     "data": {
      "text/plain": [
       "6965"
      ]
     },
     "execution_count": 8,
     "metadata": {},
     "output_type": "execute_result"
    }
   ],
   "source": [
    "train.isnull().sum().sum()"
   ]
  },
  {
   "cell_type": "code",
   "execution_count": 9,
   "id": "3210db6a",
   "metadata": {},
   "outputs": [],
   "source": [
    "total = train.isnull().sum().sort_values(ascending=False)\n",
    "percentage = (train.isnull().sum()/train.isnull().count()).sort_values(ascending=False)\n",
    "missing_data = pd.concat([total, percentage], axis=1, keys=['Total', 'Percentage'])"
   ]
  },
  {
   "cell_type": "code",
   "execution_count": 10,
   "id": "44dbaaac",
   "metadata": {},
   "outputs": [],
   "source": [
    "train = train.drop(missing_data[missing_data['Total'] > 1].index, 1)\n",
    "train = train.drop(train.loc[train['Electrical'].isnull()].index)"
   ]
  },
  {
   "cell_type": "code",
   "execution_count": 11,
   "id": "3104e657",
   "metadata": {},
   "outputs": [
    {
     "data": {
      "text/plain": [
       "0"
      ]
     },
     "execution_count": 11,
     "metadata": {},
     "output_type": "execute_result"
    }
   ],
   "source": [
    "train.isnull().sum().sum()"
   ]
  },
  {
   "cell_type": "code",
   "execution_count": 12,
   "id": "34aaf569",
   "metadata": {},
   "outputs": [],
   "source": [
    "from scipy.stats import norm\n",
    "from scipy import stats\n",
    "train['SalePrice'] = np.log1p(train['SalePrice'])"
   ]
  },
  {
   "cell_type": "code",
   "execution_count": 13,
   "id": "5ff85173",
   "metadata": {},
   "outputs": [],
   "source": [
    "train = pd.get_dummies(train)"
   ]
  },
  {
   "cell_type": "code",
   "execution_count": 14,
   "id": "0521f0bd",
   "metadata": {},
   "outputs": [],
   "source": [
    "from sklearn.model_selection import cross_val_score, train_test_split\n",
    "from sklearn.preprocessing import StandardScaler\n",
    "from sklearn.linear_model import LinearRegression\n",
    "from sklearn.ensemble import RandomForestRegressor\n",
    "from sklearn.metrics import mean_squared_error, make_scorer, accuracy_score"
   ]
  },
  {
   "cell_type": "code",
   "execution_count": 17,
   "id": "8c4f4d4c",
   "metadata": {},
   "outputs": [
    {
     "name": "stdout",
     "output_type": "stream",
     "text": [
      "(1167, 221)\n",
      "(292, 221)\n",
      "(1167, 1)\n",
      "(292, 1)\n"
     ]
    }
   ],
   "source": [
    "scaler = StandardScaler()\n",
    "X = train.drop('SalePrice', axis=1)\n",
    "y = train[['SalePrice']]\n",
    "X_train, X_test, y_test, y_train = train_test_split(X, y, test_size=0.2, random_state=42)\n",
    "\n",
    "print(X_train.shape)\n",
    "print(X_test.shape)\n",
    "print(y_test.shape)\n",
    "print(y_train.shape)"
   ]
  },
  {
   "cell_type": "code",
   "execution_count": 18,
   "id": "0e2549e7",
   "metadata": {},
   "outputs": [
    {
     "ename": "ValueError",
     "evalue": "Found input variables with inconsistent numbers of samples: [1167, 292]",
     "output_type": "error",
     "traceback": [
      "\u001b[1;31m---------------------------------------------------------------------------\u001b[0m",
      "\u001b[1;31mValueError\u001b[0m                                Traceback (most recent call last)",
      "\u001b[1;32m<ipython-input-18-09d3790681e0>\u001b[0m in \u001b[0;36m<module>\u001b[1;34m\u001b[0m\n\u001b[0;32m      1\u001b[0m \u001b[1;31m# linear regression\u001b[0m\u001b[1;33m\u001b[0m\u001b[1;33m\u001b[0m\u001b[1;33m\u001b[0m\u001b[0m\n\u001b[0;32m      2\u001b[0m \u001b[0ml_r\u001b[0m \u001b[1;33m=\u001b[0m \u001b[0mLinearRegression\u001b[0m\u001b[1;33m(\u001b[0m\u001b[1;33m)\u001b[0m\u001b[1;33m\u001b[0m\u001b[1;33m\u001b[0m\u001b[0m\n\u001b[1;32m----> 3\u001b[1;33m \u001b[0ml_r\u001b[0m\u001b[1;33m.\u001b[0m\u001b[0mfit\u001b[0m\u001b[1;33m(\u001b[0m\u001b[0mX_train\u001b[0m\u001b[1;33m,\u001b[0m \u001b[0my_train\u001b[0m\u001b[1;33m)\u001b[0m\u001b[1;33m\u001b[0m\u001b[1;33m\u001b[0m\u001b[0m\n\u001b[0m\u001b[0;32m      4\u001b[0m \u001b[0my_train_pred\u001b[0m \u001b[1;33m=\u001b[0m \u001b[0ml_r\u001b[0m\u001b[1;33m.\u001b[0m\u001b[0mpredict\u001b[0m\u001b[1;33m(\u001b[0m\u001b[0mX_train\u001b[0m\u001b[1;33m)\u001b[0m\u001b[1;33m\u001b[0m\u001b[1;33m\u001b[0m\u001b[0m\n\u001b[0;32m      5\u001b[0m \u001b[0my_test_pred\u001b[0m \u001b[1;33m=\u001b[0m \u001b[0ml_r\u001b[0m\u001b[1;33m.\u001b[0m\u001b[0mpredict\u001b[0m\u001b[1;33m(\u001b[0m\u001b[0mX_test\u001b[0m\u001b[1;33m)\u001b[0m\u001b[1;33m\u001b[0m\u001b[1;33m\u001b[0m\u001b[0m\n",
      "\u001b[1;32mc:\\users\\sid\\appdata\\local\\programs\\python\\python39\\lib\\site-packages\\sklearn\\linear_model\\_base.py\u001b[0m in \u001b[0;36mfit\u001b[1;34m(self, X, y, sample_weight)\u001b[0m\n\u001b[0;32m    516\u001b[0m         \u001b[0maccept_sparse\u001b[0m \u001b[1;33m=\u001b[0m \u001b[1;32mFalse\u001b[0m \u001b[1;32mif\u001b[0m \u001b[0mself\u001b[0m\u001b[1;33m.\u001b[0m\u001b[0mpositive\u001b[0m \u001b[1;32melse\u001b[0m \u001b[1;33m[\u001b[0m\u001b[1;34m'csr'\u001b[0m\u001b[1;33m,\u001b[0m \u001b[1;34m'csc'\u001b[0m\u001b[1;33m,\u001b[0m \u001b[1;34m'coo'\u001b[0m\u001b[1;33m]\u001b[0m\u001b[1;33m\u001b[0m\u001b[1;33m\u001b[0m\u001b[0m\n\u001b[0;32m    517\u001b[0m \u001b[1;33m\u001b[0m\u001b[0m\n\u001b[1;32m--> 518\u001b[1;33m         X, y = self._validate_data(X, y, accept_sparse=accept_sparse,\n\u001b[0m\u001b[0;32m    519\u001b[0m                                    y_numeric=True, multi_output=True)\n\u001b[0;32m    520\u001b[0m \u001b[1;33m\u001b[0m\u001b[0m\n",
      "\u001b[1;32mc:\\users\\sid\\appdata\\local\\programs\\python\\python39\\lib\\site-packages\\sklearn\\base.py\u001b[0m in \u001b[0;36m_validate_data\u001b[1;34m(self, X, y, reset, validate_separately, **check_params)\u001b[0m\n\u001b[0;32m    431\u001b[0m                 \u001b[0my\u001b[0m \u001b[1;33m=\u001b[0m \u001b[0mcheck_array\u001b[0m\u001b[1;33m(\u001b[0m\u001b[0my\u001b[0m\u001b[1;33m,\u001b[0m \u001b[1;33m**\u001b[0m\u001b[0mcheck_y_params\u001b[0m\u001b[1;33m)\u001b[0m\u001b[1;33m\u001b[0m\u001b[1;33m\u001b[0m\u001b[0m\n\u001b[0;32m    432\u001b[0m             \u001b[1;32melse\u001b[0m\u001b[1;33m:\u001b[0m\u001b[1;33m\u001b[0m\u001b[1;33m\u001b[0m\u001b[0m\n\u001b[1;32m--> 433\u001b[1;33m                 \u001b[0mX\u001b[0m\u001b[1;33m,\u001b[0m \u001b[0my\u001b[0m \u001b[1;33m=\u001b[0m \u001b[0mcheck_X_y\u001b[0m\u001b[1;33m(\u001b[0m\u001b[0mX\u001b[0m\u001b[1;33m,\u001b[0m \u001b[0my\u001b[0m\u001b[1;33m,\u001b[0m \u001b[1;33m**\u001b[0m\u001b[0mcheck_params\u001b[0m\u001b[1;33m)\u001b[0m\u001b[1;33m\u001b[0m\u001b[1;33m\u001b[0m\u001b[0m\n\u001b[0m\u001b[0;32m    434\u001b[0m             \u001b[0mout\u001b[0m \u001b[1;33m=\u001b[0m \u001b[0mX\u001b[0m\u001b[1;33m,\u001b[0m \u001b[0my\u001b[0m\u001b[1;33m\u001b[0m\u001b[1;33m\u001b[0m\u001b[0m\n\u001b[0;32m    435\u001b[0m \u001b[1;33m\u001b[0m\u001b[0m\n",
      "\u001b[1;32mc:\\users\\sid\\appdata\\local\\programs\\python\\python39\\lib\\site-packages\\sklearn\\utils\\validation.py\u001b[0m in \u001b[0;36minner_f\u001b[1;34m(*args, **kwargs)\u001b[0m\n\u001b[0;32m     61\u001b[0m             \u001b[0mextra_args\u001b[0m \u001b[1;33m=\u001b[0m \u001b[0mlen\u001b[0m\u001b[1;33m(\u001b[0m\u001b[0margs\u001b[0m\u001b[1;33m)\u001b[0m \u001b[1;33m-\u001b[0m \u001b[0mlen\u001b[0m\u001b[1;33m(\u001b[0m\u001b[0mall_args\u001b[0m\u001b[1;33m)\u001b[0m\u001b[1;33m\u001b[0m\u001b[1;33m\u001b[0m\u001b[0m\n\u001b[0;32m     62\u001b[0m             \u001b[1;32mif\u001b[0m \u001b[0mextra_args\u001b[0m \u001b[1;33m<=\u001b[0m \u001b[1;36m0\u001b[0m\u001b[1;33m:\u001b[0m\u001b[1;33m\u001b[0m\u001b[1;33m\u001b[0m\u001b[0m\n\u001b[1;32m---> 63\u001b[1;33m                 \u001b[1;32mreturn\u001b[0m \u001b[0mf\u001b[0m\u001b[1;33m(\u001b[0m\u001b[1;33m*\u001b[0m\u001b[0margs\u001b[0m\u001b[1;33m,\u001b[0m \u001b[1;33m**\u001b[0m\u001b[0mkwargs\u001b[0m\u001b[1;33m)\u001b[0m\u001b[1;33m\u001b[0m\u001b[1;33m\u001b[0m\u001b[0m\n\u001b[0m\u001b[0;32m     64\u001b[0m \u001b[1;33m\u001b[0m\u001b[0m\n\u001b[0;32m     65\u001b[0m             \u001b[1;31m# extra_args > 0\u001b[0m\u001b[1;33m\u001b[0m\u001b[1;33m\u001b[0m\u001b[1;33m\u001b[0m\u001b[0m\n",
      "\u001b[1;32mc:\\users\\sid\\appdata\\local\\programs\\python\\python39\\lib\\site-packages\\sklearn\\utils\\validation.py\u001b[0m in \u001b[0;36mcheck_X_y\u001b[1;34m(X, y, accept_sparse, accept_large_sparse, dtype, order, copy, force_all_finite, ensure_2d, allow_nd, multi_output, ensure_min_samples, ensure_min_features, y_numeric, estimator)\u001b[0m\n\u001b[0;32m    829\u001b[0m         \u001b[0my\u001b[0m \u001b[1;33m=\u001b[0m \u001b[0my\u001b[0m\u001b[1;33m.\u001b[0m\u001b[0mastype\u001b[0m\u001b[1;33m(\u001b[0m\u001b[0mnp\u001b[0m\u001b[1;33m.\u001b[0m\u001b[0mfloat64\u001b[0m\u001b[1;33m)\u001b[0m\u001b[1;33m\u001b[0m\u001b[1;33m\u001b[0m\u001b[0m\n\u001b[0;32m    830\u001b[0m \u001b[1;33m\u001b[0m\u001b[0m\n\u001b[1;32m--> 831\u001b[1;33m     \u001b[0mcheck_consistent_length\u001b[0m\u001b[1;33m(\u001b[0m\u001b[0mX\u001b[0m\u001b[1;33m,\u001b[0m \u001b[0my\u001b[0m\u001b[1;33m)\u001b[0m\u001b[1;33m\u001b[0m\u001b[1;33m\u001b[0m\u001b[0m\n\u001b[0m\u001b[0;32m    832\u001b[0m \u001b[1;33m\u001b[0m\u001b[0m\n\u001b[0;32m    833\u001b[0m     \u001b[1;32mreturn\u001b[0m \u001b[0mX\u001b[0m\u001b[1;33m,\u001b[0m \u001b[0my\u001b[0m\u001b[1;33m\u001b[0m\u001b[1;33m\u001b[0m\u001b[0m\n",
      "\u001b[1;32mc:\\users\\sid\\appdata\\local\\programs\\python\\python39\\lib\\site-packages\\sklearn\\utils\\validation.py\u001b[0m in \u001b[0;36mcheck_consistent_length\u001b[1;34m(*arrays)\u001b[0m\n\u001b[0;32m    260\u001b[0m     \u001b[0muniques\u001b[0m \u001b[1;33m=\u001b[0m \u001b[0mnp\u001b[0m\u001b[1;33m.\u001b[0m\u001b[0munique\u001b[0m\u001b[1;33m(\u001b[0m\u001b[0mlengths\u001b[0m\u001b[1;33m)\u001b[0m\u001b[1;33m\u001b[0m\u001b[1;33m\u001b[0m\u001b[0m\n\u001b[0;32m    261\u001b[0m     \u001b[1;32mif\u001b[0m \u001b[0mlen\u001b[0m\u001b[1;33m(\u001b[0m\u001b[0muniques\u001b[0m\u001b[1;33m)\u001b[0m \u001b[1;33m>\u001b[0m \u001b[1;36m1\u001b[0m\u001b[1;33m:\u001b[0m\u001b[1;33m\u001b[0m\u001b[1;33m\u001b[0m\u001b[0m\n\u001b[1;32m--> 262\u001b[1;33m         raise ValueError(\"Found input variables with inconsistent numbers of\"\n\u001b[0m\u001b[0;32m    263\u001b[0m                          \" samples: %r\" % [int(l) for l in lengths])\n\u001b[0;32m    264\u001b[0m \u001b[1;33m\u001b[0m\u001b[0m\n",
      "\u001b[1;31mValueError\u001b[0m: Found input variables with inconsistent numbers of samples: [1167, 292]"
     ]
    }
   ],
   "source": [
    "# linear regression\n",
    "l_r = LinearRegression()\n",
    "l_r.fit(X_train, y_train)\n",
    "y_train_pred = l_r.predict(X_train)\n",
    "y_test_pred = l_r.predict(X_test)\n",
    "scorer = make_scorer(mean_squared_error, greater_is_better=False)\n",
    "rmse_train = np.sqrt(-cross_val_score(l_r, X_train, y_train, scoring=scorer, cv=10))\n",
    "rmse_test = np.sqrt(-cross_val_score(l_r, X_test, y_test, scoring=scorer, cv=10))\n",
    "print('Mean RMSE for train set: ', rmse_train.mean())\n",
    "print('Mean RMSE for test set: ', rmse_test.mean())"
   ]
  },
  {
   "cell_type": "code",
   "execution_count": null,
   "id": "493776aa",
   "metadata": {},
   "outputs": [],
   "source": []
  }
 ],
 "metadata": {
  "kernelspec": {
   "display_name": "Python 3",
   "language": "python",
   "name": "python3"
  },
  "language_info": {
   "codemirror_mode": {
    "name": "ipython",
    "version": 3
   },
   "file_extension": ".py",
   "mimetype": "text/x-python",
   "name": "python",
   "nbconvert_exporter": "python",
   "pygments_lexer": "ipython3",
   "version": "3.9.5"
  }
 },
 "nbformat": 4,
 "nbformat_minor": 5
}
